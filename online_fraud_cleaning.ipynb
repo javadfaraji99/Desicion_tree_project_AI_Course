{
 "cells": [
  {
   "cell_type": "code",
   "execution_count": 37,
   "metadata": {},
   "outputs": [],
   "source": [
    "import numpy as np\n",
    "import pandas as pd\n",
    "import re as re\n",
    "\n",
    "full_data = pd.read_csv('onlinefraud.csv')"
   ]
  },
  {
   "cell_type": "code",
   "execution_count": 33,
   "metadata": {},
   "outputs": [
    {
     "name": "stdout",
     "output_type": "stream",
     "text": [
      "877762.2390818001\n"
     ]
    }
   ],
   "source": [
    "print(full_data['oldbalanceOrg'].mean())"
   ]
  },
  {
   "cell_type": "code",
   "execution_count": 34,
   "metadata": {},
   "outputs": [
    {
     "data": {
      "text/plain": [
       "isFraud\n",
       "0    97884\n",
       "1     2116\n",
       "Name: count, dtype: int64"
      ]
     },
     "execution_count": 34,
     "metadata": {},
     "output_type": "execute_result"
    }
   ],
   "source": [
    "full_data['isFraud'].value_counts()"
   ]
  },
  {
   "cell_type": "code",
   "execution_count": 5,
   "metadata": {},
   "outputs": [
    {
     "data": {
      "text/plain": [
       "isFraud\n",
       "0    1956\n",
       "1      45\n",
       "Name: count, dtype: int64"
      ]
     },
     "execution_count": 5,
     "metadata": {},
     "output_type": "execute_result"
    }
   ],
   "source": [
    "data = full_data.head(2001)\n",
    "data['isFraud'].value_counts()"
   ]
  },
  {
   "cell_type": "code",
   "execution_count": 36,
   "metadata": {},
   "outputs": [
    {
     "name": "stdout",
     "output_type": "stream",
     "text": [
      "type\n",
      "CASH_IN     311\n",
      "CASH_OUT    348\n",
      "DEBIT       116\n",
      "PAYMENT     999\n",
      "TRANSFER    227\n",
      "Name: count, dtype: int64\n"
     ]
    }
   ],
   "source": [
    "print(data[['type']].groupby('type').value_counts())"
   ]
  },
  {
   "cell_type": "code",
   "execution_count": 37,
   "metadata": {},
   "outputs": [
    {
     "name": "stdout",
     "output_type": "stream",
     "text": [
      "           isFraud\n",
      "type              \n",
      "CASH_IN   0.012862\n",
      "CASH_OUT  0.034483\n",
      "DEBIT     0.008621\n",
      "PAYMENT   0.017017\n",
      "TRANSFER  0.048458\n"
     ]
    }
   ],
   "source": [
    "print(data[['type','isFraud']].groupby('type').mean())"
   ]
  },
  {
   "cell_type": "code",
   "execution_count": 38,
   "metadata": {},
   "outputs": [
    {
     "name": "stdout",
     "output_type": "stream",
     "text": [
      "step\n",
      "1    2001\n",
      "Name: count, dtype: int64\n"
     ]
    }
   ],
   "source": [
    "print(data[['step']].groupby('step').value_counts())"
   ]
  },
  {
   "cell_type": "code",
   "execution_count": 39,
   "metadata": {},
   "outputs": [
    {
     "name": "stdout",
     "output_type": "stream",
     "text": [
      "step\n",
      "1      2708\n",
      "2      1014\n",
      "3       552\n",
      "4       565\n",
      "5       665\n",
      "6      1660\n",
      "7      6837\n",
      "8     21097\n",
      "9     37628\n",
      "10    27274\n",
      "Name: count, dtype: int64\n"
     ]
    }
   ],
   "source": [
    "print(full_data[['step']].groupby('step').value_counts())"
   ]
  },
  {
   "cell_type": "code",
   "execution_count": 40,
   "metadata": {},
   "outputs": [
    {
     "name": "stdout",
     "output_type": "stream",
     "text": [
      "       isFraud\n",
      "step          \n",
      "1     0.020679\n",
      "2     0.025641\n",
      "3     0.027174\n",
      "4     0.028319\n",
      "5     0.031579\n",
      "6     0.032530\n",
      "7     0.023987\n",
      "8     0.019766\n",
      "9     0.020437\n",
      "10    0.021192\n"
     ]
    }
   ],
   "source": [
    "print(full_data[['step','isFraud']].groupby('step').mean())"
   ]
  },
  {
   "cell_type": "code",
   "execution_count": 41,
   "metadata": {},
   "outputs": [
    {
     "name": "stdout",
     "output_type": "stream",
     "text": [
      "            isFraud\n",
      "amount             \n",
      "8.73            0.0\n",
      "15.06           0.0\n",
      "23.31           0.0\n",
      "25.12           0.0\n",
      "27.55           0.0\n",
      "...             ...\n",
      "2317408.88      0.0\n",
      "2421578.09      0.0\n",
      "2545478.01      0.0\n",
      "2604219.11      0.0\n",
      "3776389.09      0.0\n",
      "\n",
      "[1994 rows x 1 columns]\n"
     ]
    }
   ],
   "source": [
    "print(data[['amount','isFraud']].groupby('amount').mean())"
   ]
  },
  {
   "cell_type": "code",
   "execution_count": 42,
   "metadata": {},
   "outputs": [
    {
     "name": "stdout",
     "output_type": "stream",
     "text": [
      "[()]\n",
      "[()]\n",
      "[()]\n",
      "[()]\n",
      "[()]\n",
      "[()]\n",
      "[()]\n",
      "[()]\n",
      "[()]\n",
      "[()]\n"
     ]
    }
   ],
   "source": [
    "print(list(map(tuple, np.where(pd.isnull(full_data['amount'])))))\n",
    "print(list(map(tuple, np.where(pd.isnull(full_data['step'])))))\n",
    "print(list(map(tuple, np.where(pd.isnull(full_data['type'])))))\n",
    "print(list(map(tuple, np.where(pd.isnull(full_data['oldbalanceOrg'])))))\n",
    "print(list(map(tuple, np.where(pd.isnull(full_data['oldbalanceDest'])))))\n",
    "print(list(map(tuple, np.where(pd.isnull(full_data['newbalanceOrig'])))))\n",
    "print(list(map(tuple, np.where(pd.isnull(full_data['newbalanceDest'])))))\n",
    "print(list(map(tuple, np.where(pd.isnull(full_data['nameDest'])))))\n",
    "print(list(map(tuple, np.where(pd.isnull(full_data['nameOrig'])))))\n",
    "print(list(map(tuple, np.where(pd.isnull(full_data['isFraud'])))))"
   ]
  },
  {
   "attachments": {},
   "cell_type": "markdown",
   "metadata": {},
   "source": []
  },
  {
   "cell_type": "code",
   "execution_count": 10,
   "metadata": {},
   "outputs": [
    {
     "name": "stdout",
     "output_type": "stream",
     "text": [
      "                          isFraud\n",
      "categoricalAmount                \n",
      "(0.319, 3528.78]           0.0215\n",
      "(3528.78, 7574.786]        0.0195\n",
      "(7574.786, 12897.183]      0.0202\n",
      "(12897.183, 22475.506]     0.0213\n",
      "(22475.506, 52745.52]      0.0230\n",
      "(52745.52, 109141.484]     0.0207\n",
      "(109141.484, 173581.355]   0.0212\n",
      "(173581.355, 256638.936]   0.0179\n",
      "(256638.936, 397698.908]   0.0199\n",
      "(397698.908, 10000000.0]   0.0264\n",
      "categoricalAmount\n",
      "(0.319, 3528.78]            10000\n",
      "(3528.78, 7574.786]         10000\n",
      "(7574.786, 12897.183]       10000\n",
      "(12897.183, 22475.506]      10000\n",
      "(22475.506, 52745.52]       10000\n",
      "(52745.52, 109141.484]      10000\n",
      "(109141.484, 173581.355]    10000\n",
      "(173581.355, 256638.936]    10000\n",
      "(256638.936, 397698.908]    10000\n",
      "(397698.908, 10000000.0]    10000\n",
      "Name: count, dtype: int64\n"
     ]
    },
    {
     "name": "stderr",
     "output_type": "stream",
     "text": [
      "C:\\Users\\Acer.DESKTOP-4HNT6UI\\AppData\\Local\\Temp\\ipykernel_5688\\1078315354.py:2: FutureWarning: The default of observed=False is deprecated and will be changed to True in a future version of pandas. Pass observed=False to retain current behavior or observed=True to adopt the future default and silence this warning.\n",
      "  print(full_data[['categoricalAmount','isFraud']].groupby('categoricalAmount').mean())\n"
     ]
    }
   ],
   "source": [
    "full_data['categoricalAmount'] = pd.qcut(full_data['amount'],10)\n",
    "print(full_data[['categoricalAmount','isFraud']].groupby('categoricalAmount').mean())\n",
    "print(full_data['categoricalAmount'].value_counts())"
   ]
  },
  {
   "cell_type": "code",
   "execution_count": 44,
   "metadata": {},
   "outputs": [
    {
     "name": "stdout",
     "output_type": "stream",
     "text": [
      "0.32\n",
      "10000000.0\n"
     ]
    }
   ],
   "source": [
    "print(full_data['amount'].min())\n",
    "print(full_data['amount'].max())\n"
   ]
  },
  {
   "cell_type": "code",
   "execution_count": 45,
   "metadata": {},
   "outputs": [
    {
     "data": {
      "text/plain": [
       "51551"
      ]
     },
     "execution_count": 45,
     "metadata": {},
     "output_type": "execute_result"
    }
   ],
   "source": [
    "unique_names = full_data[\"nameDest\"].unique()\n",
    "len(unique_names)"
   ]
  },
  {
   "cell_type": "code",
   "execution_count": 46,
   "metadata": {},
   "outputs": [
    {
     "data": {
      "text/plain": [
       "100000"
      ]
     },
     "execution_count": 46,
     "metadata": {},
     "output_type": "execute_result"
    }
   ],
   "source": [
    "unique_names = full_data[\"nameOrig\"].unique()\n",
    "len(unique_names)"
   ]
  },
  {
   "cell_type": "code",
   "execution_count": 47,
   "metadata": {},
   "outputs": [
    {
     "name": "stdout",
     "output_type": "stream",
     "text": [
      "0.0\n",
      "33800000.0\n",
      "31254\n",
      "                           isFraud\n",
      "categoricalOldbalanceOrg          \n",
      "(-33800.0, 6760000.0]     0.021297\n",
      "(6760000.0, 13520000.0]   0.020619\n",
      "(13520000.0, 20280000.0]  0.009709\n",
      "(20280000.0, 27040000.0]  0.010791\n",
      "(27040000.0, 33800000.0]  0.000000\n",
      "categoricalOldbalanceOrg\n",
      "(-33800.0, 6760000.0]       95740\n",
      "(6760000.0, 13520000.0]      3298\n",
      "(13520000.0, 20280000.0]      618\n",
      "(20280000.0, 27040000.0]      278\n",
      "(27040000.0, 33800000.0]       66\n",
      "Name: count, dtype: int64\n"
     ]
    },
    {
     "name": "stderr",
     "output_type": "stream",
     "text": [
      "C:\\Users\\Acer.DESKTOP-4HNT6UI\\AppData\\Local\\Temp\\ipykernel_22400\\2410227659.py:5: FutureWarning: The default of observed=False is deprecated and will be changed to True in a future version of pandas. Pass observed=False to retain current behavior or observed=True to adopt the future default and silence this warning.\n",
      "  print(full_data[['categoricalOldbalanceOrg','isFraud']].groupby('categoricalOldbalanceOrg').mean())\n"
     ]
    }
   ],
   "source": [
    "print(full_data['oldbalanceOrg'].min())\n",
    "print(full_data['oldbalanceOrg'].max())\n",
    "print(len(np.where(full_data['oldbalanceOrg'] == 0)[0]))\n",
    "full_data['categoricalOldbalanceOrg'] = pd.cut(full_data['oldbalanceOrg'],5)\n",
    "print(full_data[['categoricalOldbalanceOrg','isFraud']].groupby('categoricalOldbalanceOrg').mean())\n",
    "print(full_data['categoricalOldbalanceOrg'].value_counts())"
   ]
  },
  {
   "cell_type": "code",
   "execution_count": 48,
   "metadata": {},
   "outputs": [
    {
     "name": "stdout",
     "output_type": "stream",
     "text": [
      "(array([64526], dtype=int64),)\n"
     ]
    },
    {
     "data": {
      "text/plain": [
       "array([9, 'CASH_IN', 211345.43, 'C1393868694', 33800000.0, 34000000.0,\n",
       "       'C299715257', 765542.61, 701842.35, 0,\n",
       "       Interval(173581.355, 256638.936, closed='right'),\n",
       "       Interval(27040000.0, 33800000.0, closed='right')], dtype=object)"
      ]
     },
     "execution_count": 48,
     "metadata": {},
     "output_type": "execute_result"
    }
   ],
   "source": [
    "print(np.where(full_data['oldbalanceOrg'] == 33800000.0))\n",
    "np.array(full_data)[64526]"
   ]
  },
  {
   "cell_type": "code",
   "execution_count": 49,
   "metadata": {},
   "outputs": [
    {
     "name": "stdout",
     "output_type": "stream",
     "text": [
      "0.0\n",
      "34000000.0\n",
      "45703\n",
      "                            isFraud\n",
      "categoricaloldbalanceDest          \n",
      "(-34000.0, 6800000.0]      0.021245\n",
      "(6800000.0, 13600000.0]    0.018472\n",
      "(13600000.0, 20400000.0]   0.015515\n",
      "(20400000.0, 27200000.0]   0.034483\n",
      "(27200000.0, 34000000.0]   0.029412\n",
      "categoricaloldbalanceDest\n",
      "(-34000.0, 6800000.0]       96730\n",
      "(6800000.0, 13600000.0]      2382\n",
      "(13600000.0, 20400000.0]      709\n",
      "(20400000.0, 27200000.0]      145\n",
      "(27200000.0, 34000000.0]       34\n",
      "Name: count, dtype: int64\n"
     ]
    },
    {
     "name": "stderr",
     "output_type": "stream",
     "text": [
      "C:\\Users\\Acer.DESKTOP-4HNT6UI\\AppData\\Local\\Temp\\ipykernel_22400\\3869019999.py:5: FutureWarning: The default of observed=False is deprecated and will be changed to True in a future version of pandas. Pass observed=False to retain current behavior or observed=True to adopt the future default and silence this warning.\n",
      "  print(full_data[['categoricaloldbalanceDest','isFraud']].groupby('categoricaloldbalanceDest').mean())\n"
     ]
    }
   ],
   "source": [
    "print(full_data['oldbalanceDest'].min())\n",
    "print(full_data['oldbalanceDest'].max())\n",
    "print(len(np.where(full_data['oldbalanceDest'] == 0)[0]))\n",
    "full_data['categoricaloldbalanceDest'] = pd.cut(full_data['oldbalanceDest'],5)\n",
    "print(full_data[['categoricaloldbalanceDest','isFraud']].groupby('categoricaloldbalanceDest').mean())\n",
    "print(full_data['categoricaloldbalanceDest'].value_counts())\n"
   ]
  },
  {
   "cell_type": "code",
   "execution_count": 50,
   "metadata": {},
   "outputs": [
    {
     "name": "stdout",
     "output_type": "stream",
     "text": [
      "0.0\n",
      "34000000.0\n",
      "51836\n",
      "                            isFraud\n",
      "categoricalnewbalanceOrig          \n",
      "(-34000.0, 6800000.0]      0.021309\n",
      "(6800000.0, 13600000.0]    0.020336\n",
      "(13600000.0, 20400000.0]   0.009662\n",
      "(20400000.0, 27200000.0]   0.010791\n",
      "(27200000.0, 34000000.0]   0.000000\n",
      "categoricalnewbalanceOrig\n",
      "(-34000.0, 6800000.0]       95640\n",
      "(6800000.0, 13600000.0]      3393\n",
      "(13600000.0, 20400000.0]      621\n",
      "(20400000.0, 27200000.0]      278\n",
      "(27200000.0, 34000000.0]       68\n",
      "Name: count, dtype: int64\n"
     ]
    },
    {
     "name": "stderr",
     "output_type": "stream",
     "text": [
      "C:\\Users\\Acer.DESKTOP-4HNT6UI\\AppData\\Local\\Temp\\ipykernel_22400\\218271944.py:5: FutureWarning: The default of observed=False is deprecated and will be changed to True in a future version of pandas. Pass observed=False to retain current behavior or observed=True to adopt the future default and silence this warning.\n",
      "  print(full_data[['categoricalnewbalanceOrig','isFraud']].groupby('categoricalnewbalanceOrig').mean())\n"
     ]
    }
   ],
   "source": [
    "print(full_data['newbalanceOrig'].min())\n",
    "print(full_data['newbalanceOrig'].max())\n",
    "print(len(np.where(full_data['newbalanceOrig'] == 0)[0]))\n",
    "full_data['categoricalnewbalanceOrig'] = pd.cut(full_data['newbalanceOrig'],5)\n",
    "print(full_data[['categoricalnewbalanceOrig','isFraud']].groupby('categoricalnewbalanceOrig').mean())\n",
    "print(full_data['categoricalnewbalanceOrig'].value_counts())"
   ]
  },
  {
   "cell_type": "code",
   "execution_count": 51,
   "metadata": {},
   "outputs": [
    {
     "name": "stdout",
     "output_type": "stream",
     "text": [
      "0.0\n",
      "38900000.0\n",
      "46469\n",
      "                            isFraud\n",
      "categoricalnewbalanceDest          \n",
      "(-38900.0, 7780000.0]      0.021204\n",
      "(7780000.0, 15560000.0]    0.020283\n",
      "(15560000.0, 23340000.0]   0.017834\n",
      "(23340000.0, 31120000.0]   0.023256\n",
      "(31120000.0, 38900000.0]   0.052632\n",
      "categoricalnewbalanceDest\n",
      "(-38900.0, 7780000.0]       96349\n",
      "(7780000.0, 15560000.0]      2761\n",
      "(15560000.0, 23340000.0]      785\n",
      "(23340000.0, 31120000.0]       86\n",
      "(31120000.0, 38900000.0]       19\n",
      "Name: count, dtype: int64\n"
     ]
    },
    {
     "name": "stderr",
     "output_type": "stream",
     "text": [
      "C:\\Users\\Acer.DESKTOP-4HNT6UI\\AppData\\Local\\Temp\\ipykernel_22400\\874698883.py:5: FutureWarning: The default of observed=False is deprecated and will be changed to True in a future version of pandas. Pass observed=False to retain current behavior or observed=True to adopt the future default and silence this warning.\n",
      "  print(full_data[['categoricalnewbalanceDest','isFraud']].groupby('categoricalnewbalanceDest').mean())\n"
     ]
    }
   ],
   "source": [
    "print(full_data['newbalanceDest'].min())\n",
    "print(full_data['newbalanceDest'].max())\n",
    "print(len(np.where(full_data['newbalanceDest'] == 0)[0]))\n",
    "full_data['categoricalnewbalanceDest'] = pd.cut(full_data['newbalanceDest'],5)\n",
    "print(full_data[['categoricalnewbalanceDest','isFraud']].groupby('categoricalnewbalanceDest').mean())\n",
    "print(full_data['categoricalnewbalanceDest'].value_counts())"
   ]
  },
  {
   "cell_type": "code",
   "execution_count": 52,
   "metadata": {},
   "outputs": [],
   "source": [
    "\n",
    "type_mapping = {\"PAYMENT\": 1, \"TRANSFER\": 2, \"DEBIT\": 3, \"CASH_IN\": 4, \"CASH_OUT\": 5}\n",
    "full_data['type'] = full_data['type'].map(type_mapping)\n",
    "\n",
    "\n",
    "full_data.loc[ full_data['amount'] <= 0.319, 'amount'] \t\t\t\t\t\t        = 0\n",
    "full_data.loc[(full_data['amount'] > 0.319) & (full_data['amount'] <= 3528.78), 'amount'] = 1\n",
    "full_data.loc[(full_data['amount'] > 3528.78) & (full_data['amount'] <= 7574.786), 'amount']   = 2\n",
    "full_data.loc[(full_data['amount'] > 7574.786) & (full_data['amount'] <= 12897.183), 'amount']   = 3\n",
    "full_data.loc[(full_data['amount'] > 12897.183) & (full_data['amount'] <= 22475.506), 'amount']   = 4\n",
    "full_data.loc[(full_data['amount'] > 22475.506) & (full_data['amount'] <= 52745.52), 'amount']   = 5\n",
    "full_data.loc[(full_data['amount'] > 52745.52) & (full_data['amount'] <= 109141.484), 'amount']   = 6\n",
    "full_data.loc[(full_data['amount'] > 109141.484) & (full_data['amount'] <= 173581.355), 'amount']   = 7\n",
    "full_data.loc[(full_data['amount'] > 173581.355) & (full_data['amount'] <= 256638.936), 'amount']   = 8\n",
    "full_data.loc[(full_data['amount'] > 256638.936) & (full_data['amount'] <= 397698.908), 'amount']   = 9\n",
    "full_data.loc[(full_data['amount'] > 397698.908) & (full_data['amount'] <= 10000000.0), 'amount']   = 10\n",
    "full_data.loc[ full_data['amount'] > 10000000.0, 'amount'] \t\t\t\t\t\t\t        = 11\n",
    "full_data['amount'] = full_data['amount'].astype(int)\n",
    "\n",
    "full_data.loc[ full_data['oldbalanceOrg'] <= -33800.0, 'oldbalanceOrg'] \t\t\t\t\t       = 0\n",
    "full_data.loc[(full_data['oldbalanceOrg'] > -33800.0) & (full_data['oldbalanceOrg'] <= 6760000.0), 'oldbalanceOrg'] = 1\n",
    "full_data.loc[(full_data['oldbalanceOrg'] > 6760000.0) & (full_data['oldbalanceOrg'] <= 13520000.0), 'oldbalanceOrg'] = 2\n",
    "full_data.loc[(full_data['oldbalanceOrg'] > 13520000.0) & (full_data['oldbalanceOrg'] <= 20280000.0), 'oldbalanceOrg'] = 3\n",
    "full_data.loc[(full_data['oldbalanceOrg'] > 20280000.0) & (full_data['oldbalanceOrg'] <= 27040000.0), 'oldbalanceOrg'] = 4\n",
    "full_data.loc[(full_data['oldbalanceOrg'] > 27040000.0) & (full_data['oldbalanceOrg'] <= 33800000.0), 'oldbalanceOrg'] = 5\n",
    "full_data.loc[ full_data['oldbalanceOrg'] > 33800000.0, 'oldbalanceOrg']                                                = 6\n",
    "full_data['oldbalanceOrg'] = full_data['oldbalanceOrg'].astype(int)\n",
    "\n",
    "full_data.loc[ full_data['oldbalanceDest'] <= -34000.0, 'oldbalanceDest'] \t\t\t\t\t       = 0\n",
    "full_data.loc[(full_data['oldbalanceDest'] > -34000.0) & (full_data['oldbalanceDest'] <= 6800000.0), 'oldbalanceDest'] = 1\n",
    "full_data.loc[(full_data['oldbalanceDest'] > 6800000.0) & (full_data['oldbalanceDest'] <= 13600000.0), 'oldbalanceDest'] = 2\n",
    "full_data.loc[(full_data['oldbalanceDest'] > 13600000.0) & (full_data['oldbalanceDest'] <= 20400000.0), 'oldbalanceDest'] = 3\n",
    "full_data.loc[(full_data['oldbalanceDest'] > 20400000.0) & (full_data['oldbalanceDest'] <= 27200000.0), 'oldbalanceDest'] = 4\n",
    "full_data.loc[(full_data['oldbalanceDest'] > 27200000.0) & (full_data['oldbalanceDest'] <= 34000000.0), 'oldbalanceDest'] = 5\n",
    "full_data.loc[ full_data['oldbalanceDest'] > 34000000.0, 'oldbalanceDest']                                                = 6\n",
    "full_data['oldbalanceDest'] = full_data['oldbalanceDest'].astype(int)\n",
    "\n",
    "full_data.loc[ full_data['newbalanceOrig'] <= -34000.0, 'newbalanceOrig'] \t\t\t\t\t       = 0\n",
    "full_data.loc[(full_data['newbalanceOrig'] > -34000.0) & (full_data['newbalanceOrig'] <= 6800000.0), 'newbalanceOrig'] = 1\n",
    "full_data.loc[(full_data['newbalanceOrig'] > 6800000.0) & (full_data['newbalanceOrig'] <= 13600000.0), 'newbalanceOrig'] = 2\n",
    "full_data.loc[(full_data['newbalanceOrig'] > 13600000.0) & (full_data['newbalanceOrig'] <= 20400000.0), 'newbalanceOrig'] = 3\n",
    "full_data.loc[(full_data['newbalanceOrig'] > 20400000.0) & (full_data['newbalanceOrig'] <= 27200000.0), 'newbalanceOrig'] = 4\n",
    "full_data.loc[(full_data['newbalanceOrig'] > 27200000.0) & (full_data['newbalanceOrig'] <= 34000000.0), 'newbalanceOrig'] = 5\n",
    "full_data.loc[ full_data['newbalanceOrig'] > 34000000.0, 'newbalanceOrig']                                                = 6\n",
    "full_data['newbalanceOrig'] = full_data['newbalanceOrig'].astype(int)\n",
    "\n",
    "full_data.loc[ full_data['newbalanceDest'] <= -38900.0, 'newbalanceDest'] \t\t\t\t\t       = 0\n",
    "full_data.loc[(full_data['newbalanceDest'] > -38900.0) & (full_data['newbalanceDest'] <= 7780000.0), 'newbalanceDest'] = 1\n",
    "full_data.loc[(full_data['newbalanceDest'] > 7780000.0) & (full_data['newbalanceDest'] <= 15560000.0), 'newbalanceDest'] = 2\n",
    "full_data.loc[(full_data['newbalanceDest'] > 15560000.0) & (full_data['newbalanceDest'] <= 23340000.0), 'newbalanceDest'] = 3\n",
    "full_data.loc[(full_data['newbalanceDest'] > 23340000.0) & (full_data['newbalanceDest'] <= 31120000.0), 'newbalanceDest'] = 4\n",
    "full_data.loc[(full_data['newbalanceDest'] > 31120000.0) & (full_data['newbalanceDest'] <= 38900000.0), 'newbalanceDest'] = 5\n",
    "full_data.loc[ full_data['newbalanceDest'] > 38900000.0, 'newbalanceDest']                                                = 6\n",
    "full_data['newbalanceDest'] = full_data['newbalanceDest'].astype(int)\n"
   ]
  },
  {
   "cell_type": "code",
   "execution_count": 53,
   "metadata": {},
   "outputs": [],
   "source": [
    "full_data = full_data.drop([\"categoricalAmount\",\"categoricalOldbalanceOrg\",\"categoricaloldbalanceDest\",\"categoricalnewbalanceOrig\",\"categoricalnewbalanceDest\",\"nameDest\"\n",
    ",\"nameOrig\"],axis=1)"
   ]
  },
  {
   "cell_type": "code",
   "execution_count": 54,
   "metadata": {},
   "outputs": [
    {
     "data": {
      "text/html": [
       "<div>\n",
       "<style scoped>\n",
       "    .dataframe tbody tr th:only-of-type {\n",
       "        vertical-align: middle;\n",
       "    }\n",
       "\n",
       "    .dataframe tbody tr th {\n",
       "        vertical-align: top;\n",
       "    }\n",
       "\n",
       "    .dataframe thead th {\n",
       "        text-align: right;\n",
       "    }\n",
       "</style>\n",
       "<table border=\"1\" class=\"dataframe\">\n",
       "  <thead>\n",
       "    <tr style=\"text-align: right;\">\n",
       "      <th></th>\n",
       "      <th>step</th>\n",
       "      <th>type</th>\n",
       "      <th>amount</th>\n",
       "      <th>oldbalanceOrg</th>\n",
       "      <th>newbalanceOrig</th>\n",
       "      <th>oldbalanceDest</th>\n",
       "      <th>newbalanceDest</th>\n",
       "      <th>isFraud</th>\n",
       "    </tr>\n",
       "  </thead>\n",
       "  <tbody>\n",
       "    <tr>\n",
       "      <th>0</th>\n",
       "      <td>1</td>\n",
       "      <td>1</td>\n",
       "      <td>3</td>\n",
       "      <td>1</td>\n",
       "      <td>1</td>\n",
       "      <td>1</td>\n",
       "      <td>1</td>\n",
       "      <td>0</td>\n",
       "    </tr>\n",
       "    <tr>\n",
       "      <th>1</th>\n",
       "      <td>1</td>\n",
       "      <td>1</td>\n",
       "      <td>1</td>\n",
       "      <td>1</td>\n",
       "      <td>1</td>\n",
       "      <td>1</td>\n",
       "      <td>1</td>\n",
       "      <td>0</td>\n",
       "    </tr>\n",
       "    <tr>\n",
       "      <th>2</th>\n",
       "      <td>1</td>\n",
       "      <td>2</td>\n",
       "      <td>1</td>\n",
       "      <td>1</td>\n",
       "      <td>1</td>\n",
       "      <td>1</td>\n",
       "      <td>1</td>\n",
       "      <td>1</td>\n",
       "    </tr>\n",
       "    <tr>\n",
       "      <th>3</th>\n",
       "      <td>1</td>\n",
       "      <td>5</td>\n",
       "      <td>1</td>\n",
       "      <td>1</td>\n",
       "      <td>1</td>\n",
       "      <td>1</td>\n",
       "      <td>1</td>\n",
       "      <td>1</td>\n",
       "    </tr>\n",
       "    <tr>\n",
       "      <th>4</th>\n",
       "      <td>1</td>\n",
       "      <td>1</td>\n",
       "      <td>3</td>\n",
       "      <td>1</td>\n",
       "      <td>1</td>\n",
       "      <td>1</td>\n",
       "      <td>1</td>\n",
       "      <td>0</td>\n",
       "    </tr>\n",
       "    <tr>\n",
       "      <th>...</th>\n",
       "      <td>...</td>\n",
       "      <td>...</td>\n",
       "      <td>...</td>\n",
       "      <td>...</td>\n",
       "      <td>...</td>\n",
       "      <td>...</td>\n",
       "      <td>...</td>\n",
       "      <td>...</td>\n",
       "    </tr>\n",
       "    <tr>\n",
       "      <th>1995</th>\n",
       "      <td>1</td>\n",
       "      <td>1</td>\n",
       "      <td>2</td>\n",
       "      <td>1</td>\n",
       "      <td>1</td>\n",
       "      <td>1</td>\n",
       "      <td>1</td>\n",
       "      <td>0</td>\n",
       "    </tr>\n",
       "    <tr>\n",
       "      <th>1996</th>\n",
       "      <td>1</td>\n",
       "      <td>1</td>\n",
       "      <td>3</td>\n",
       "      <td>1</td>\n",
       "      <td>1</td>\n",
       "      <td>1</td>\n",
       "      <td>1</td>\n",
       "      <td>0</td>\n",
       "    </tr>\n",
       "    <tr>\n",
       "      <th>1997</th>\n",
       "      <td>1</td>\n",
       "      <td>3</td>\n",
       "      <td>1</td>\n",
       "      <td>1</td>\n",
       "      <td>1</td>\n",
       "      <td>1</td>\n",
       "      <td>1</td>\n",
       "      <td>0</td>\n",
       "    </tr>\n",
       "    <tr>\n",
       "      <th>1998</th>\n",
       "      <td>1</td>\n",
       "      <td>5</td>\n",
       "      <td>9</td>\n",
       "      <td>1</td>\n",
       "      <td>1</td>\n",
       "      <td>1</td>\n",
       "      <td>1</td>\n",
       "      <td>0</td>\n",
       "    </tr>\n",
       "    <tr>\n",
       "      <th>1999</th>\n",
       "      <td>1</td>\n",
       "      <td>1</td>\n",
       "      <td>2</td>\n",
       "      <td>1</td>\n",
       "      <td>1</td>\n",
       "      <td>1</td>\n",
       "      <td>1</td>\n",
       "      <td>0</td>\n",
       "    </tr>\n",
       "  </tbody>\n",
       "</table>\n",
       "<p>2000 rows × 8 columns</p>\n",
       "</div>"
      ],
      "text/plain": [
       "      step  type  amount  oldbalanceOrg  newbalanceOrig  oldbalanceDest  \\\n",
       "0        1     1       3              1               1               1   \n",
       "1        1     1       1              1               1               1   \n",
       "2        1     2       1              1               1               1   \n",
       "3        1     5       1              1               1               1   \n",
       "4        1     1       3              1               1               1   \n",
       "...    ...   ...     ...            ...             ...             ...   \n",
       "1995     1     1       2              1               1               1   \n",
       "1996     1     1       3              1               1               1   \n",
       "1997     1     3       1              1               1               1   \n",
       "1998     1     5       9              1               1               1   \n",
       "1999     1     1       2              1               1               1   \n",
       "\n",
       "      newbalanceDest  isFraud  \n",
       "0                  1        0  \n",
       "1                  1        0  \n",
       "2                  1        1  \n",
       "3                  1        1  \n",
       "4                  1        0  \n",
       "...              ...      ...  \n",
       "1995               1        0  \n",
       "1996               1        0  \n",
       "1997               1        0  \n",
       "1998               1        0  \n",
       "1999               1        0  \n",
       "\n",
       "[2000 rows x 8 columns]"
      ]
     },
     "execution_count": 54,
     "metadata": {},
     "output_type": "execute_result"
    }
   ],
   "source": [
    "full_data.head(2000)"
   ]
  },
  {
   "cell_type": "code",
   "execution_count": 58,
   "metadata": {},
   "outputs": [],
   "source": [
    "import csv\n",
    "\n",
    "with open('full_data_cleaned.csv', 'w', encoding='UTF8', newline='') as f:\n",
    "    writer = csv.writer(f)\n",
    "\n",
    "    writer.writerow(full_data.head(1))\n",
    "\n",
    "    full_data_cleaned = np.array(full_data)\n",
    "    for dataset in full_data_cleaned:\n",
    "        writer.writerow(dataset)"
   ]
  },
  {
   "cell_type": "code",
   "execution_count": 61,
   "metadata": {},
   "outputs": [
    {
     "data": {
      "text/plain": [
       "array([[ 1,  1,  3, ...,  1,  1,  0],\n",
       "       [ 1,  1,  1, ...,  1,  1,  0],\n",
       "       [ 1,  2,  1, ...,  1,  1,  1],\n",
       "       ...,\n",
       "       [10,  4,  8, ...,  1,  1,  0],\n",
       "       [10,  5,  6, ...,  1,  1,  0],\n",
       "       [10,  1,  4, ...,  1,  1,  0]], dtype=int64)"
      ]
     },
     "execution_count": 61,
     "metadata": {},
     "output_type": "execute_result"
    }
   ],
   "source": [
    "full_data_cleaned"
   ]
  },
  {
   "cell_type": "code",
   "execution_count": 66,
   "metadata": {},
   "outputs": [
    {
     "data": {
      "text/html": [
       "<div>\n",
       "<style scoped>\n",
       "    .dataframe tbody tr th:only-of-type {\n",
       "        vertical-align: middle;\n",
       "    }\n",
       "\n",
       "    .dataframe tbody tr th {\n",
       "        vertical-align: top;\n",
       "    }\n",
       "\n",
       "    .dataframe thead th {\n",
       "        text-align: right;\n",
       "    }\n",
       "</style>\n",
       "<table border=\"1\" class=\"dataframe\">\n",
       "  <thead>\n",
       "    <tr style=\"text-align: right;\">\n",
       "      <th></th>\n",
       "      <th>step</th>\n",
       "      <th>type</th>\n",
       "      <th>amount</th>\n",
       "      <th>oldbalanceOrg</th>\n",
       "      <th>newbalanceOrig</th>\n",
       "      <th>oldbalanceDest</th>\n",
       "      <th>newbalanceDest</th>\n",
       "      <th>isFraud</th>\n",
       "    </tr>\n",
       "  </thead>\n",
       "  <tbody>\n",
       "    <tr>\n",
       "      <th>0</th>\n",
       "      <td>1</td>\n",
       "      <td>1</td>\n",
       "      <td>3</td>\n",
       "      <td>1</td>\n",
       "      <td>1</td>\n",
       "      <td>1</td>\n",
       "      <td>1</td>\n",
       "      <td>0</td>\n",
       "    </tr>\n",
       "    <tr>\n",
       "      <th>1</th>\n",
       "      <td>1</td>\n",
       "      <td>1</td>\n",
       "      <td>1</td>\n",
       "      <td>1</td>\n",
       "      <td>1</td>\n",
       "      <td>1</td>\n",
       "      <td>1</td>\n",
       "      <td>0</td>\n",
       "    </tr>\n",
       "    <tr>\n",
       "      <th>2</th>\n",
       "      <td>1</td>\n",
       "      <td>2</td>\n",
       "      <td>1</td>\n",
       "      <td>1</td>\n",
       "      <td>1</td>\n",
       "      <td>1</td>\n",
       "      <td>1</td>\n",
       "      <td>1</td>\n",
       "    </tr>\n",
       "    <tr>\n",
       "      <th>3</th>\n",
       "      <td>1</td>\n",
       "      <td>5</td>\n",
       "      <td>1</td>\n",
       "      <td>1</td>\n",
       "      <td>1</td>\n",
       "      <td>1</td>\n",
       "      <td>1</td>\n",
       "      <td>1</td>\n",
       "    </tr>\n",
       "    <tr>\n",
       "      <th>4</th>\n",
       "      <td>1</td>\n",
       "      <td>1</td>\n",
       "      <td>3</td>\n",
       "      <td>1</td>\n",
       "      <td>1</td>\n",
       "      <td>1</td>\n",
       "      <td>1</td>\n",
       "      <td>0</td>\n",
       "    </tr>\n",
       "    <tr>\n",
       "      <th>...</th>\n",
       "      <td>...</td>\n",
       "      <td>...</td>\n",
       "      <td>...</td>\n",
       "      <td>...</td>\n",
       "      <td>...</td>\n",
       "      <td>...</td>\n",
       "      <td>...</td>\n",
       "      <td>...</td>\n",
       "    </tr>\n",
       "    <tr>\n",
       "      <th>99995</th>\n",
       "      <td>10</td>\n",
       "      <td>1</td>\n",
       "      <td>2</td>\n",
       "      <td>1</td>\n",
       "      <td>1</td>\n",
       "      <td>1</td>\n",
       "      <td>1</td>\n",
       "      <td>0</td>\n",
       "    </tr>\n",
       "    <tr>\n",
       "      <th>99996</th>\n",
       "      <td>10</td>\n",
       "      <td>1</td>\n",
       "      <td>4</td>\n",
       "      <td>1</td>\n",
       "      <td>1</td>\n",
       "      <td>1</td>\n",
       "      <td>1</td>\n",
       "      <td>0</td>\n",
       "    </tr>\n",
       "    <tr>\n",
       "      <th>99997</th>\n",
       "      <td>10</td>\n",
       "      <td>4</td>\n",
       "      <td>8</td>\n",
       "      <td>1</td>\n",
       "      <td>1</td>\n",
       "      <td>1</td>\n",
       "      <td>1</td>\n",
       "      <td>0</td>\n",
       "    </tr>\n",
       "    <tr>\n",
       "      <th>99998</th>\n",
       "      <td>10</td>\n",
       "      <td>5</td>\n",
       "      <td>6</td>\n",
       "      <td>1</td>\n",
       "      <td>1</td>\n",
       "      <td>1</td>\n",
       "      <td>1</td>\n",
       "      <td>0</td>\n",
       "    </tr>\n",
       "    <tr>\n",
       "      <th>99999</th>\n",
       "      <td>10</td>\n",
       "      <td>1</td>\n",
       "      <td>4</td>\n",
       "      <td>1</td>\n",
       "      <td>1</td>\n",
       "      <td>1</td>\n",
       "      <td>1</td>\n",
       "      <td>0</td>\n",
       "    </tr>\n",
       "  </tbody>\n",
       "</table>\n",
       "<p>100000 rows × 8 columns</p>\n",
       "</div>"
      ],
      "text/plain": [
       "       step  type  amount  oldbalanceOrg  newbalanceOrig  oldbalanceDest  \\\n",
       "0         1     1       3              1               1               1   \n",
       "1         1     1       1              1               1               1   \n",
       "2         1     2       1              1               1               1   \n",
       "3         1     5       1              1               1               1   \n",
       "4         1     1       3              1               1               1   \n",
       "...     ...   ...     ...            ...             ...             ...   \n",
       "99995    10     1       2              1               1               1   \n",
       "99996    10     1       4              1               1               1   \n",
       "99997    10     4       8              1               1               1   \n",
       "99998    10     5       6              1               1               1   \n",
       "99999    10     1       4              1               1               1   \n",
       "\n",
       "       newbalanceDest  isFraud  \n",
       "0                   1        0  \n",
       "1                   1        0  \n",
       "2                   1        1  \n",
       "3                   1        1  \n",
       "4                   1        0  \n",
       "...               ...      ...  \n",
       "99995               1        0  \n",
       "99996               1        0  \n",
       "99997               1        0  \n",
       "99998               1        0  \n",
       "99999               1        0  \n",
       "\n",
       "[100000 rows x 8 columns]"
      ]
     },
     "execution_count": 66,
     "metadata": {},
     "output_type": "execute_result"
    }
   ],
   "source": [
    "full_data"
   ]
  },
  {
   "cell_type": "code",
   "execution_count": 38,
   "metadata": {},
   "outputs": [
    {
     "name": "stdout",
     "output_type": "stream",
     "text": [
      "full_data.loc[full_data['amount'] <= 0.32, 'amount'] = 0\n",
      "full_data.loc[(full_data['amount'] > 0.32) & (full_data['amount'] <= 3528.7800000000007), 'amount'] = 1\n",
      "full_data.loc[(full_data['amount'] > 3528.7800000000007) & (full_data['amount'] <= 7574.786000000002), 'amount'] = 2\n",
      "full_data.loc[(full_data['amount'] > 7574.786000000002) & (full_data['amount'] <= 12897.183000000003), 'amount'] = 3\n",
      "full_data.loc[(full_data['amount'] > 12897.183000000003) & (full_data['amount'] <= 22475.506), 'amount'] = 4\n",
      "full_data.loc[(full_data['amount'] > 22475.506) & (full_data['amount'] <= 52745.520000000004), 'amount'] = 5\n",
      "full_data.loc[(full_data['amount'] > 52745.520000000004) & (full_data['amount'] <= 109141.48400000005), 'amount'] = 6\n",
      "full_data.loc[(full_data['amount'] > 109141.48400000005) & (full_data['amount'] <= 173581.35499999998), 'amount'] = 7\n",
      "full_data.loc[(full_data['amount'] > 173581.35499999998) & (full_data['amount'] <= 256638.93600000005), 'amount'] = 8\n",
      "full_data.loc[(full_data['amount'] > 256638.93600000005) & (full_data['amount'] <= 397698.90800000017), 'amount'] = 9\n",
      "full_data.loc[(full_data['amount'] > 397698.90800000017) & (full_data['amount'] <= 10000000.0), 'amount'] = 10\n",
      "full_data.loc[full_data['amount'] > 10000000.0, 'amount'] = 11\n",
      "\n",
      "         isFraud\n",
      "amount          \n",
      "0       0.000000\n",
      "1       0.021502\n",
      "2       0.019500\n",
      "3       0.020200\n",
      "4       0.021300\n",
      "5       0.023000\n",
      "6       0.020700\n",
      "7       0.021200\n",
      "8       0.017900\n",
      "9       0.019900\n",
      "10      0.026400\n",
      "amount\n",
      "3     10000\n",
      "2     10000\n",
      "8     10000\n",
      "9     10000\n",
      "5     10000\n",
      "7     10000\n",
      "4     10000\n",
      "6     10000\n",
      "10    10000\n",
      "1      9999\n",
      "0         1\n",
      "Name: count, dtype: int64\n"
     ]
    }
   ],
   "source": [
    "num_ranges = 10\n",
    "\n",
    "full_data['categoricalAmount'], quantiles = pd.qcut(full_data['amount'], q=num_ranges, labels=False, retbins=True)\n",
    "\n",
    "code = \"\"\n",
    "for i in range(num_ranges + 2):\n",
    "    if i == 0:\n",
    "        condition = f\"full_data['amount'] <= {quantiles[i]}\"\n",
    "    elif i == num_ranges + 1:\n",
    "        condition = f\"full_data['amount'] > {quantiles[i-1]}\"\n",
    "    else:\n",
    "        condition = f\"(full_data['amount'] > {quantiles[i-1]}) & (full_data['amount'] <= {quantiles[i]})\"\n",
    "    code += f\"full_data.loc[{condition}, 'amount'] = {i}\\n\"\n",
    "\n",
    "print(code)\n",
    "exec(code)\n",
    "\n",
    "full_data['amount'] = full_data['amount'].astype(int)\n",
    "\n",
    "print(full_data[['amount', 'isFraud']].groupby('amount').mean())\n",
    "\n",
    "print(full_data['amount'].value_counts())"
   ]
  },
  {
   "cell_type": "code",
   "execution_count": 39,
   "metadata": {},
   "outputs": [
    {
     "name": "stdout",
     "output_type": "stream",
     "text": [
      "full_data.loc[full_data['oldbalanceOrg'] <= -33800.0, 'oldbalanceOrg'] = 0\n",
      "full_data.loc[(full_data['oldbalanceOrg'] > -33800.0) & (full_data['oldbalanceOrg'] <= 6760000.0), 'oldbalanceOrg'] = 1\n",
      "full_data.loc[(full_data['oldbalanceOrg'] > 6760000.0) & (full_data['oldbalanceOrg'] <= 13520000.0), 'oldbalanceOrg'] = 2\n",
      "full_data.loc[(full_data['oldbalanceOrg'] > 13520000.0) & (full_data['oldbalanceOrg'] <= 20280000.0), 'oldbalanceOrg'] = 3\n",
      "full_data.loc[(full_data['oldbalanceOrg'] > 20280000.0) & (full_data['oldbalanceOrg'] <= 27040000.0), 'oldbalanceOrg'] = 4\n",
      "full_data.loc[(full_data['oldbalanceOrg'] > 27040000.0) & (full_data['oldbalanceOrg'] <= 33800000.0), 'oldbalanceOrg'] = 5\n",
      "full_data.loc[full_data['oldbalanceOrg'] > 33800000.0, 'oldbalanceOrg'] = 6\n",
      "\n",
      "                isFraud\n",
      "oldbalanceOrg          \n",
      "1              0.021297\n",
      "2              0.020619\n",
      "3              0.009709\n",
      "4              0.010791\n",
      "5              0.000000\n",
      "oldbalanceOrg\n",
      "1    95740\n",
      "2     3298\n",
      "3      618\n",
      "4      278\n",
      "5       66\n",
      "Name: count, dtype: int64\n"
     ]
    }
   ],
   "source": [
    "num_ranges = 5\n",
    "\n",
    "full_data['categoricalOldbalanceOrg'], bins = pd.cut(full_data['oldbalanceOrg'], num_ranges, retbins=True)\n",
    "\n",
    "range_boundaries = list(zip(bins[:-1], bins[1:]))\n",
    "\n",
    "code = \"\"\n",
    "for i, (lower, upper) in enumerate(range_boundaries):\n",
    "    if i == 0:\n",
    "        condition = f\"full_data['oldbalanceOrg'] <= {lower}\"\n",
    "        code += f\"full_data.loc[{condition}, 'oldbalanceOrg'] = {i}\\n\"\n",
    "        condition = f\"full_data['oldbalanceOrg'] > {lower}) & (full_data['oldbalanceOrg'] <= {upper})\"\n",
    "        code += f\"full_data.loc[({condition}, 'oldbalanceOrg'] = {i + 1}\\n\"\n",
    "    elif i == num_ranges - 1:\n",
    "        condition = f\"full_data['oldbalanceOrg'] > {lower}) & (full_data['oldbalanceOrg'] <= {upper})\"\n",
    "        code += f\"full_data.loc[({condition}, 'oldbalanceOrg'] = {i + 1}\\n\"\n",
    "        condition = f\"full_data['oldbalanceOrg'] > {upper}\"\n",
    "        code += f\"full_data.loc[{condition}, 'oldbalanceOrg'] = {i + 2}\\n\"\n",
    "    else:\n",
    "        condition = f\"full_data['oldbalanceOrg'] > {lower}) & (full_data['oldbalanceOrg'] <= {upper})\"\n",
    "        code += f\"full_data.loc[({condition}, 'oldbalanceOrg'] = {i + 1}\\n\"\n",
    "\n",
    "print(code)\n",
    "exec(code)\n",
    "\n",
    "full_data['oldbalanceOrg'] = full_data['oldbalanceOrg'].astype(int)\n",
    "\n",
    "print(full_data[['oldbalanceOrg', 'isFraud']].groupby('oldbalanceOrg').mean())\n",
    "\n",
    "print(full_data['oldbalanceOrg'].value_counts())"
   ]
  },
  {
   "cell_type": "code",
   "execution_count": 40,
   "metadata": {},
   "outputs": [
    {
     "name": "stdout",
     "output_type": "stream",
     "text": [
      "full_data.loc[full_data['newbalanceOrig'] <= -34000.0, 'newbalanceOrig'] = 0\n",
      "full_data.loc[(full_data['newbalanceOrig'] > -34000.0) & (full_data['newbalanceOrig'] <= 6800000.0), 'newbalanceOrig'] = 1\n",
      "full_data.loc[(full_data['newbalanceOrig'] > 6800000.0) & (full_data['newbalanceOrig'] <= 13600000.0), 'newbalanceOrig'] = 2\n",
      "full_data.loc[(full_data['newbalanceOrig'] > 13600000.0) & (full_data['newbalanceOrig'] <= 20400000.0), 'newbalanceOrig'] = 3\n",
      "full_data.loc[(full_data['newbalanceOrig'] > 20400000.0) & (full_data['newbalanceOrig'] <= 27200000.0), 'newbalanceOrig'] = 4\n",
      "full_data.loc[(full_data['newbalanceOrig'] > 27200000.0) & (full_data['newbalanceOrig'] <= 34000000.0), 'newbalanceOrig'] = 5\n",
      "full_data.loc[full_data['newbalanceOrig'] > 34000000.0, 'newbalanceOrig'] = 6\n",
      "\n",
      "                 isFraud\n",
      "newbalanceOrig          \n",
      "1               0.021309\n",
      "2               0.020336\n",
      "3               0.009662\n",
      "4               0.010791\n",
      "5               0.000000\n",
      "newbalanceOrig\n",
      "1    95640\n",
      "2     3393\n",
      "3      621\n",
      "4      278\n",
      "5       68\n",
      "Name: count, dtype: int64\n"
     ]
    }
   ],
   "source": [
    "num_ranges = 5\n",
    "\n",
    "full_data['categoricalnewbalanceOrig'], bins = pd.cut(full_data['newbalanceOrig'], num_ranges, retbins=True)\n",
    "\n",
    "range_boundaries = list(zip(bins[:-1], bins[1:]))\n",
    "\n",
    "code = \"\"\n",
    "for i, (lower, upper) in enumerate(range_boundaries):\n",
    "    if i == 0:\n",
    "        condition = f\"full_data['newbalanceOrig'] <= {lower}\"\n",
    "        code += f\"full_data.loc[{condition}, 'newbalanceOrig'] = {i}\\n\"\n",
    "        condition = f\"full_data['newbalanceOrig'] > {lower}) & (full_data['newbalanceOrig'] <= {upper})\"\n",
    "        code += f\"full_data.loc[({condition}, 'newbalanceOrig'] = {i + 1}\\n\"\n",
    "    elif i == num_ranges - 1:\n",
    "        condition = f\"full_data['newbalanceOrig'] > {lower}) & (full_data['newbalanceOrig'] <= {upper})\"\n",
    "        code += f\"full_data.loc[({condition}, 'newbalanceOrig'] = {i + 1}\\n\"\n",
    "        condition = f\"full_data['newbalanceOrig'] > {upper}\"\n",
    "        code += f\"full_data.loc[{condition}, 'newbalanceOrig'] = {i + 2}\\n\"\n",
    "    else:\n",
    "        condition = f\"full_data['newbalanceOrig'] > {lower}) & (full_data['newbalanceOrig'] <= {upper})\"\n",
    "        code += f\"full_data.loc[({condition}, 'newbalanceOrig'] = {i + 1}\\n\"\n",
    "\n",
    "print(code)\n",
    "exec(code)\n",
    "\n",
    "full_data['newbalanceOrig'] = full_data['newbalanceOrig'].astype(int)\n",
    "\n",
    "print(full_data[['newbalanceOrig', 'isFraud']].groupby('newbalanceOrig').mean())\n",
    "\n",
    "print(full_data['newbalanceOrig'].value_counts())"
   ]
  },
  {
   "cell_type": "code",
   "execution_count": 41,
   "metadata": {},
   "outputs": [
    {
     "name": "stdout",
     "output_type": "stream",
     "text": [
      "full_data.loc[full_data['oldbalanceDest'] <= -34000.0, 'oldbalanceDest'] = 0\n",
      "full_data.loc[(full_data['oldbalanceDest'] > -34000.0) & (full_data['oldbalanceDest'] <= 6800000.0), 'oldbalanceDest'] = 1\n",
      "full_data.loc[(full_data['oldbalanceDest'] > 6800000.0) & (full_data['oldbalanceDest'] <= 13600000.0), 'oldbalanceDest'] = 2\n",
      "full_data.loc[(full_data['oldbalanceDest'] > 13600000.0) & (full_data['oldbalanceDest'] <= 20400000.0), 'oldbalanceDest'] = 3\n",
      "full_data.loc[(full_data['oldbalanceDest'] > 20400000.0) & (full_data['oldbalanceDest'] <= 27200000.0), 'oldbalanceDest'] = 4\n",
      "full_data.loc[(full_data['oldbalanceDest'] > 27200000.0) & (full_data['oldbalanceDest'] <= 34000000.0), 'oldbalanceDest'] = 5\n",
      "full_data.loc[full_data['oldbalanceDest'] > 34000000.0, 'oldbalanceDest'] = 6\n",
      "\n",
      "                 isFraud\n",
      "oldbalanceDest          \n",
      "1               0.021245\n",
      "2               0.018472\n",
      "3               0.015515\n",
      "4               0.034483\n",
      "5               0.029412\n",
      "oldbalanceDest\n",
      "1    96730\n",
      "2     2382\n",
      "3      709\n",
      "4      145\n",
      "5       34\n",
      "Name: count, dtype: int64\n"
     ]
    }
   ],
   "source": [
    "num_ranges = 5\n",
    "\n",
    "full_data['categoricaloldbalanceDest'], bins = pd.cut(full_data['oldbalanceDest'], num_ranges, retbins=True)\n",
    "\n",
    "range_boundaries = list(zip(bins[:-1], bins[1:]))\n",
    "\n",
    "code = \"\"\n",
    "for i, (lower, upper) in enumerate(range_boundaries):\n",
    "    if i == 0:\n",
    "        condition = f\"full_data['oldbalanceDest'] <= {lower}\"\n",
    "        code += f\"full_data.loc[{condition}, 'oldbalanceDest'] = {i}\\n\"\n",
    "        condition = f\"full_data['oldbalanceDest'] > {lower}) & (full_data['oldbalanceDest'] <= {upper})\"\n",
    "        code += f\"full_data.loc[({condition}, 'oldbalanceDest'] = {i + 1}\\n\"\n",
    "    elif i == num_ranges - 1:\n",
    "        condition = f\"full_data['oldbalanceDest'] > {lower}) & (full_data['oldbalanceDest'] <= {upper})\"\n",
    "        code += f\"full_data.loc[({condition}, 'oldbalanceDest'] = {i + 1}\\n\"\n",
    "        condition = f\"full_data['oldbalanceDest'] > {upper}\"\n",
    "        code += f\"full_data.loc[{condition}, 'oldbalanceDest'] = {i + 2}\\n\"\n",
    "    else:\n",
    "        condition = f\"full_data['oldbalanceDest'] > {lower}) & (full_data['oldbalanceDest'] <= {upper})\"\n",
    "        code += f\"full_data.loc[({condition}, 'oldbalanceDest'] = {i + 1}\\n\"\n",
    "\n",
    "print(code)\n",
    "exec(code)\n",
    "\n",
    "full_data['oldbalanceDest'] = full_data['oldbalanceDest'].astype(int)\n",
    "\n",
    "print(full_data[['oldbalanceDest', 'isFraud']].groupby('oldbalanceDest').mean())\n",
    "\n",
    "print(full_data['oldbalanceDest'].value_counts())"
   ]
  },
  {
   "cell_type": "code",
   "execution_count": 42,
   "metadata": {},
   "outputs": [
    {
     "name": "stdout",
     "output_type": "stream",
     "text": [
      "full_data.loc[full_data['newbalanceDest'] <= -38900.0, 'newbalanceDest'] = 0\n",
      "full_data.loc[(full_data['newbalanceDest'] > -38900.0) & (full_data['newbalanceDest'] <= 7780000.0), 'newbalanceDest'] = 1\n",
      "full_data.loc[(full_data['newbalanceDest'] > 7780000.0) & (full_data['newbalanceDest'] <= 15560000.0), 'newbalanceDest'] = 2\n",
      "full_data.loc[(full_data['newbalanceDest'] > 15560000.0) & (full_data['newbalanceDest'] <= 23340000.0), 'newbalanceDest'] = 3\n",
      "full_data.loc[(full_data['newbalanceDest'] > 23340000.0) & (full_data['newbalanceDest'] <= 31120000.0), 'newbalanceDest'] = 4\n",
      "full_data.loc[(full_data['newbalanceDest'] > 31120000.0) & (full_data['newbalanceDest'] <= 38900000.0), 'newbalanceDest'] = 5\n",
      "full_data.loc[full_data['newbalanceDest'] > 38900000.0, 'newbalanceDest'] = 6\n",
      "\n",
      "                 isFraud\n",
      "newbalanceDest          \n",
      "1               0.021204\n",
      "2               0.020283\n",
      "3               0.017834\n",
      "4               0.023256\n",
      "5               0.052632\n",
      "newbalanceDest\n",
      "1    96349\n",
      "2     2761\n",
      "3      785\n",
      "4       86\n",
      "5       19\n",
      "Name: count, dtype: int64\n"
     ]
    }
   ],
   "source": [
    "num_ranges = 5\n",
    "\n",
    "full_data['categoricalnewbalanceDest'], bins = pd.cut(full_data['newbalanceDest'], num_ranges, retbins=True)\n",
    "\n",
    "range_boundaries = list(zip(bins[:-1], bins[1:]))\n",
    "\n",
    "code = \"\"\n",
    "for i, (lower, upper) in enumerate(range_boundaries):\n",
    "    if i == 0:\n",
    "        condition = f\"full_data['newbalanceDest'] <= {lower}\"\n",
    "        code += f\"full_data.loc[{condition}, 'newbalanceDest'] = {i}\\n\"\n",
    "        condition = f\"full_data['newbalanceDest'] > {lower}) & (full_data['newbalanceDest'] <= {upper})\"\n",
    "        code += f\"full_data.loc[({condition}, 'newbalanceDest'] = {i + 1}\\n\"\n",
    "    elif i == num_ranges - 1:\n",
    "        condition = f\"full_data['newbalanceDest'] > {lower}) & (full_data['newbalanceDest'] <= {upper})\"\n",
    "        code += f\"full_data.loc[({condition}, 'newbalanceDest'] = {i + 1}\\n\"\n",
    "        condition = f\"full_data['newbalanceDest'] > {upper}\"\n",
    "        code += f\"full_data.loc[{condition}, 'newbalanceDest'] = {i + 2}\\n\"\n",
    "    else:\n",
    "        condition = f\"full_data['newbalanceDest'] > {lower}) & (full_data['newbalanceDest'] <= {upper})\"\n",
    "        code += f\"full_data.loc[({condition}, 'newbalanceDest'] = {i + 1}\\n\"\n",
    "\n",
    "print(code)\n",
    "exec(code)\n",
    "\n",
    "full_data['newbalanceDest'] = full_data['newbalanceDest'].astype(int)\n",
    "\n",
    "print(full_data[['newbalanceDest', 'isFraud']].groupby('newbalanceDest').mean())\n",
    "\n",
    "print(full_data['newbalanceDest'].value_counts())"
   ]
  },
  {
   "cell_type": "code",
   "execution_count": 43,
   "metadata": {},
   "outputs": [],
   "source": [
    "import csv\n",
    "\n",
    "full_data = full_data.drop([\"categoricalAmount\",\"categoricalOldbalanceOrg\",\"categoricaloldbalanceDest\",\"categoricalnewbalanceOrig\",\"categoricalnewbalanceDest\",\"nameDest\"\n",
    ",\"nameOrig\"],axis=1)\n",
    "type_mapping = {\"PAYMENT\": 1, \"TRANSFER\": 2, \"DEBIT\": 3, \"CASH_IN\": 4, \"CASH_OUT\": 5}\n",
    "full_data['type'] = full_data['type'].map(type_mapping)\n",
    "\n",
    "with open('full_data_cleaned.csv', 'w', encoding='UTF8', newline='') as f:\n",
    "    writer = csv.writer(f)\n",
    "\n",
    "    writer.writerow(full_data.head(1))\n",
    "\n",
    "    full_data_cleaned = np.array(full_data)\n",
    "    for dataset in full_data_cleaned:\n",
    "        writer.writerow(dataset)"
   ]
  },
  {
   "cell_type": "code",
   "execution_count": null,
   "metadata": {},
   "outputs": [],
   "source": []
  }
 ],
 "metadata": {
  "kernelspec": {
   "display_name": "Python 3",
   "language": "python",
   "name": "python3"
  },
  "language_info": {
   "codemirror_mode": {
    "name": "ipython",
    "version": 3
   },
   "file_extension": ".py",
   "mimetype": "text/x-python",
   "name": "python",
   "nbconvert_exporter": "python",
   "pygments_lexer": "ipython3",
   "version": "3.12.0"
  }
 },
 "nbformat": 4,
 "nbformat_minor": 2
}
